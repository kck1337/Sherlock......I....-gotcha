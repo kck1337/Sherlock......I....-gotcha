{
 "cells": [
  {
   "cell_type": "code",
   "execution_count": 1,
   "id": "0d50f043",
   "metadata": {},
   "outputs": [],
   "source": [
    "import numpy as np\n",
    "import cv2 as cv"
   ]
  },
  {
   "cell_type": "code",
   "execution_count": 2,
   "id": "60c07734",
   "metadata": {},
   "outputs": [],
   "source": [
    "img = cv.imread(\"for_watson.png\")\n",
    "\n",
    "x,y,z = np.shape(img)\n",
    "\n",
    "img_mask = np.zeros([x,y,z])\n",
    "\n",
    "for i in range(0,480):\n",
    "    for j in range(0, 640):\n",
    "        for k in range(0, 3):\n",
    "            if(img[i][j][k] == 255 or img[i][j][k] == 0):\n",
    "                img_mask[i][j][k] = 0\n",
    "            else:\n",
    "                img_mask[i][j][k] = img[i][j][k]\n",
    "\n",
    "            \n",
    "            \n",
    "# cv.imshow(\"img\",img)\n",
    "# cv.waitKey(0)"
   ]
  },
  {
   "cell_type": "code",
   "execution_count": 3,
   "id": "1d654e39",
   "metadata": {},
   "outputs": [
    {
     "data": {
      "text/plain": [
       "-1"
      ]
     },
     "execution_count": 3,
     "metadata": {},
     "output_type": "execute_result"
    }
   ],
   "source": [
    "cv.imshow(\"img_mask\", img_mask)\n",
    "cv.waitKey(0)"
   ]
  }
 ],
 "metadata": {
  "kernelspec": {
   "display_name": "Python 3 (ipykernel)",
   "language": "python",
   "name": "python3"
  },
  "language_info": {
   "codemirror_mode": {
    "name": "ipython",
    "version": 3
   },
   "file_extension": ".py",
   "mimetype": "text/x-python",
   "name": "python",
   "nbconvert_exporter": "python",
   "pygments_lexer": "ipython3",
   "version": "3.10.5"
  },
  "vscode": {
   "interpreter": {
    "hash": "369f2c481f4da34e4445cda3fffd2e751bd1c4d706f27375911949ba6bb62e1c"
   }
  }
 },
 "nbformat": 4,
 "nbformat_minor": 5
}
